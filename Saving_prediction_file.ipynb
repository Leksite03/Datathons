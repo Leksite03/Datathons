{
  "nbformat": 4,
  "nbformat_minor": 0,
  "metadata": {
    "colab": {
      "name": "Saving prediction file.ipynb",
      "provenance": [],
      "collapsed_sections": [],
      "include_colab_link": true
    },
    "kernelspec": {
      "name": "python3",
      "display_name": "Python 3"
    }
  },
  "cells": [
    {
      "cell_type": "markdown",
      "metadata": {
        "id": "view-in-github",
        "colab_type": "text"
      },
      "source": [
        "<a href=\"https://colab.research.google.com/github/dphi-official/Datathons/blob/master/Saving_prediction_file.ipynb\" target=\"_parent\"><img src=\"https://colab.research.google.com/assets/colab-badge.svg\" alt=\"Open In Colab\"/></a>"
      ]
    },
    {
      "cell_type": "markdown",
      "metadata": {
        "id": "eQIoIMz-DFyM"
      },
      "source": [
        "# Help Video"
      ]
    },
    {
      "cell_type": "code",
      "metadata": {
        "id": "f8PkZgd-DKNG"
      },
      "source": [
        "Video link: https://www.youtube.com/watch?v=XC3ZxHq5s9I&feature=youtu.be"
      ],
      "execution_count": null,
      "outputs": []
    },
    {
      "cell_type": "markdown",
      "metadata": {
        "id": "0oc-8sFccIHv"
      },
      "source": [
        "## Prediction on Evaluation Data"
      ]
    },
    {
      "cell_type": "markdown",
      "metadata": {
        "id": "ZYGNweAPY14U"
      },
      "source": [
        "\"test_new\" is test data for which we need to predict the target variable"
      ]
    },
    {
      "cell_type": "code",
      "metadata": {
        "id": "F8HmIW2kb8er"
      },
      "source": [
        "target = model.predict(test_new) # you must do a pre-processing on your evaluation data"
      ],
      "execution_count": null,
      "outputs": []
    },
    {
      "cell_type": "markdown",
      "metadata": {
        "id": "GvSTtB9QOYB-"
      },
      "source": [
        "## How to save prediciton results locally via jupyter notebook?\n",
        "If you are working on Jupyter notebook, execute below block of codes. A file named 'prediction_results.csv' will be created in your current working directory."
      ]
    },
    {
      "cell_type": "code",
      "metadata": {
        "id": "JsNJ6MpiD1Xk"
      },
      "source": [
        "res = pd.DataFrame(target) #preditcions are nothing but the final predictions of your model on input features of your new unseen test data\n",
        "res.columns = [\"prediction\"]\n",
        "res.to_csv(\"prediction_results.csv\")      # the csv file will be saved locally on the same location where this notebook is located."
      ],
      "execution_count": null,
      "outputs": []
    },
    {
      "cell_type": "markdown",
      "metadata": {
        "id": "c-ZMA96qOh71"
      },
      "source": [
        "## How to save prediction results locally via colab notebook?\n",
        "If you are working on Google Colab Notebook, execute below block of codes. A file named 'prediction_results' will be downloaded in your system."
      ]
    },
    {
      "cell_type": "code",
      "metadata": {
        "id": "eaemhFf_OrHO"
      },
      "source": [
        "# To create Dataframe of predicted value with particular respective index\n",
        "res = pd.DataFrame(target) #preditcions are nothing but the final predictions of your model on input features of your new unseen test data\n",
        "res.columns = [\"prediction\"]\n",
        "\n",
        "# To download the csv file locally\n",
        "from google.colab import files\n",
        "res.to_csv('prediction_results.csv')         \n",
        "files.download('prediction_results.csv')\n",
        "\n"
      ],
      "execution_count": null,
      "outputs": []
    }
  ]
}